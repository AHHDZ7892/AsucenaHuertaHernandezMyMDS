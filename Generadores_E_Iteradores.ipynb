{
  "nbformat": 4,
  "nbformat_minor": 0,
  "metadata": {
    "colab": {
      "name": "Generadores E Iteradores.ipynb",
      "provenance": [],
      "collapsed_sections": [],
      "authorship_tag": "ABX9TyMq4qWddNIvnd6JxU02qYR/",
      "include_colab_link": true
    },
    "kernelspec": {
      "name": "python3",
      "display_name": "Python 3"
    },
    "language_info": {
      "name": "python"
    }
  },
  "cells": [
    {
      "cell_type": "markdown",
      "metadata": {
        "id": "view-in-github",
        "colab_type": "text"
      },
      "source": [
        "<a href=\"https://colab.research.google.com/github/AHHDZ7892/AsucenaHuertaHernandezMyMDS/blob/master/Generadores_E_Iteradores.ipynb\" target=\"_parent\"><img src=\"https://colab.research.google.com/assets/colab-badge.svg\" alt=\"Open In Colab\"/></a>"
      ]
    },
    {
      "cell_type": "markdown",
      "metadata": {
        "id": "7NpiUofKojnT"
      },
      "source": [
        "Generadores e Iteradores\n"
      ]
    },
    {
      "cell_type": "markdown",
      "metadata": {
        "id": "dE6u92HCpFAs"
      },
      "source": [
        "#Enumerate\n",
        "Es un iterador\n"
      ]
    },
    {
      "cell_type": "code",
      "metadata": {
        "id": "Ususrlc4o9Cx"
      },
      "source": [
        "words = [ 'carro', 'moto', 'bicicleta']                                   "
      ],
      "execution_count": 3,
      "outputs": []
    },
    {
      "cell_type": "code",
      "metadata": {
        "colab": {
          "base_uri": "https://localhost:8080/"
        },
        "id": "gZ4306Capxc6",
        "outputId": "a3f07d3d-2e65-456c-b092-901b335694ec"
      },
      "source": [
        "result = enumerate(words)\n",
        "result"
      ],
      "execution_count": 6,
      "outputs": [
        {
          "output_type": "execute_result",
          "data": {
            "text/plain": [
              "<enumerate at 0x7f47e800b6e0>"
            ]
          },
          "metadata": {
            "tags": []
          },
          "execution_count": 6
        }
      ]
    },
    {
      "cell_type": "code",
      "metadata": {
        "colab": {
          "base_uri": "https://localhost:8080/"
        },
        "id": "nZOqhCr4r0gY",
        "outputId": "8cc84d43-23e3-4c3e-f129-3ec31ac9cebc"
      },
      "source": [
        "type(result)"
      ],
      "execution_count": 7,
      "outputs": [
        {
          "output_type": "execute_result",
          "data": {
            "text/plain": [
              "enumerate"
            ]
          },
          "metadata": {
            "tags": []
          },
          "execution_count": 7
        }
      ]
    },
    {
      "cell_type": "code",
      "metadata": {
        "colab": {
          "base_uri": "https://localhost:8080/"
        },
        "id": "RavWBdy6r7a9",
        "outputId": "17456482-3110-451f-a27a-c06cee96a944"
      },
      "source": [
        "list(result)"
      ],
      "execution_count": 8,
      "outputs": [
        {
          "output_type": "execute_result",
          "data": {
            "text/plain": [
              "[(0, 'carro'), (1, 'moto'), (2, 'bicicleta')]"
            ]
          },
          "metadata": {
            "tags": []
          },
          "execution_count": 8
        }
      ]
    },
    {
      "cell_type": "code",
      "metadata": {
        "colab": {
          "base_uri": "https://localhost:8080/"
        },
        "id": "0kV4dkGqsNca",
        "outputId": "359cc121-0675-4b0e-b4c6-9c3f426779da"
      },
      "source": [
        "word = 'avion'\n",
        "result = enumerate(word)\n",
        "list(result)"
      ],
      "execution_count": 9,
      "outputs": [
        {
          "output_type": "execute_result",
          "data": {
            "text/plain": [
              "[(0, 'a'), (1, 'v'), (2, 'i'), (3, 'o'), (4, 'n')]"
            ]
          },
          "metadata": {
            "tags": []
          },
          "execution_count": 9
        }
      ]
    },
    {
      "cell_type": "code",
      "metadata": {
        "colab": {
          "base_uri": "https://localhost:8080/"
        },
        "id": "AM0XpqZfsdXy",
        "outputId": "cfc14430-9117-4c63-8af0-a5d69ec7ef4b"
      },
      "source": [
        "for count, element in enumerate(words, 100):\n",
        "  print(count, element)"
      ],
      "execution_count": 10,
      "outputs": [
        {
          "output_type": "stream",
          "text": [
            "100 carro\n",
            "101 moto\n",
            "102 bicicleta\n"
          ],
          "name": "stdout"
        }
      ]
    },
    {
      "cell_type": "markdown",
      "metadata": {
        "id": "vEzMqEOatMRm"
      },
      "source": [
        "**Los generadores son funciones simples que generan estos iteradores**"
      ]
    },
    {
      "cell_type": "code",
      "metadata": {
        "id": "eEcCyZJRtYKP"
      },
      "source": [
        "def my_range(limit):\n",
        "    counter = 0\n",
        "    while counter < limit:\n",
        "      yield counter\n",
        "      counter += 1"
      ],
      "execution_count": 12,
      "outputs": []
    },
    {
      "cell_type": "code",
      "metadata": {
        "colab": {
          "base_uri": "https://localhost:8080/"
        },
        "id": "tOqkjQ8vt5N7",
        "outputId": "a59bf5ae-86aa-4cc3-fbe7-d64284128aee"
      },
      "source": [
        "result = my_range(6)\n",
        "list(result)"
      ],
      "execution_count": 16,
      "outputs": [
        {
          "output_type": "execute_result",
          "data": {
            "text/plain": [
              "[0, 1, 2, 3, 4, 5]"
            ]
          },
          "metadata": {
            "tags": []
          },
          "execution_count": 16
        }
      ]
    },
    {
      "cell_type": "code",
      "metadata": {
        "colab": {
          "base_uri": "https://localhost:8080/"
        },
        "id": "NCv_mEcjvEor",
        "outputId": "d7d741f3-82ab-45eb-f193-a12e302a9aac"
      },
      "source": [
        "type(result)"
      ],
      "execution_count": 17,
      "outputs": [
        {
          "output_type": "execute_result",
          "data": {
            "text/plain": [
              "generator"
            ]
          },
          "metadata": {
            "tags": []
          },
          "execution_count": 17
        }
      ]
    },
    {
      "cell_type": "code",
      "metadata": {
        "id": "kZvlwK3Vvbrq"
      },
      "source": [
        "courses = [\"Algebra\", \"Calculo\", \"Estadistica\", \"Economia\"]\n",
        "\n",
        "def my_enumerate(iterable, start=0):\n",
        "  counter = start\n",
        "  for element in iterable:\n",
        "    yield counter, element\n",
        "    counter += 1 "
      ],
      "execution_count": 18,
      "outputs": []
    },
    {
      "cell_type": "code",
      "metadata": {
        "colab": {
          "base_uri": "https://localhost:8080/"
        },
        "id": "ynm0ULnKwMPi",
        "outputId": "bfe8c212-a422-4f5c-ac08-275318b3c1fc"
      },
      "source": [
        "for counter, course in my_enumerate(courses, 1):\n",
        "  print(f\"Curso {counter}: {course}\")"
      ],
      "execution_count": 19,
      "outputs": [
        {
          "output_type": "stream",
          "text": [
            "Curso 1: Algebra\n",
            "Curso 2: Calculo\n",
            "Curso 3: Estadistica\n",
            "Curso 4: Economia\n"
          ],
          "name": "stdout"
        }
      ]
    },
    {
      "cell_type": "code",
      "metadata": {
        "id": "QNoY7VVSwvMA"
      },
      "source": [
        "result = [number ** 2 for number in range(10)]"
      ],
      "execution_count": 20,
      "outputs": []
    },
    {
      "cell_type": "code",
      "metadata": {
        "colab": {
          "base_uri": "https://localhost:8080/"
        },
        "id": "j3N8yy1iw5jx",
        "outputId": "79ac5db7-b2b6-4efd-e93a-760499ba43b2"
      },
      "source": [
        "result"
      ],
      "execution_count": 21,
      "outputs": [
        {
          "output_type": "execute_result",
          "data": {
            "text/plain": [
              "[0, 1, 4, 9, 16, 25, 36, 49, 64, 81]"
            ]
          },
          "metadata": {
            "tags": []
          },
          "execution_count": 21
        }
      ]
    },
    {
      "cell_type": "code",
      "metadata": {
        "id": "L_h5A3oZw9I0"
      },
      "source": [
        "result = (number ** 2 for number in range(10))"
      ],
      "execution_count": 22,
      "outputs": []
    },
    {
      "cell_type": "code",
      "metadata": {
        "colab": {
          "base_uri": "https://localhost:8080/"
        },
        "id": "84JheaS3xKzd",
        "outputId": "2fe841b9-8ec1-4cd3-d4be-3b1b6b08687f"
      },
      "source": [
        "result"
      ],
      "execution_count": 23,
      "outputs": [
        {
          "output_type": "execute_result",
          "data": {
            "text/plain": [
              "<generator object <genexpr> at 0x7f47e8008e50>"
            ]
          },
          "metadata": {
            "tags": []
          },
          "execution_count": 23
        }
      ]
    },
    {
      "cell_type": "code",
      "metadata": {
        "colab": {
          "base_uri": "https://localhost:8080/"
        },
        "id": "cKDsNJctxNwP",
        "outputId": "02cedb58-ecf4-406a-ae06-9895e3b9b119"
      },
      "source": [
        "list(result)"
      ],
      "execution_count": 24,
      "outputs": [
        {
          "output_type": "execute_result",
          "data": {
            "text/plain": [
              "[0, 1, 4, 9, 16, 25, 36, 49, 64, 81]"
            ]
          },
          "metadata": {
            "tags": []
          },
          "execution_count": 24
        }
      ]
    }
  ]
}